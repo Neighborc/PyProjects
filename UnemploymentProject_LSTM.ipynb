{
  "nbformat": 4,
  "nbformat_minor": 0,
  "metadata": {
    "kernelspec": {
      "display_name": "Python [conda env:SummerTraining]",
      "language": "python",
      "name": "conda-env-SummerTraining-py"
    },
    "language_info": {
      "codemirror_mode": {
        "name": "ipython",
        "version": 3
      },
      "file_extension": ".py",
      "mimetype": "text/x-python",
      "name": "python",
      "nbconvert_exporter": "python",
      "pygments_lexer": "ipython3",
      "version": "3.6.5"
    },
    "colab": {
      "name": "UnemploymentProject-LSTM.ipynb",
      "provenance": [],
      "collapsed_sections": [],
      "include_colab_link": true
    }
  },
  "cells": [
    {
      "cell_type": "markdown",
      "metadata": {
        "id": "view-in-github",
        "colab_type": "text"
      },
      "source": [
        "<a href=\"https://colab.research.google.com/github/Neighborc/PyProjects/blob/master/UnemploymentProject_LSTM.ipynb\" target=\"_parent\"><img src=\"https://colab.research.google.com/assets/colab-badge.svg\" alt=\"Open In Colab\"/></a>"
      ]
    },
    {
      "cell_type": "code",
      "metadata": {
        "id": "H8-KvCTRnrZY"
      },
      "source": [
        "import pandas as pd\n",
        "import matplotlib.pyplot as plt\n",
        "import os\n",
        "import numpy as np"
      ],
      "execution_count": 1,
      "outputs": []
    },
    {
      "cell_type": "code",
      "metadata": {
        "id": "ZB6lGeY5nrZb"
      },
      "source": [
        "path = os.getcwd()"
      ],
      "execution_count": 2,
      "outputs": []
    },
    {
      "cell_type": "code",
      "metadata": {
        "colab": {
          "base_uri": "https://localhost:8080/",
          "height": 204
        },
        "id": "Dz69E4MinrZc",
        "outputId": "0f44f7dc-29bd-4f53-c5ae-f11e09b5be6e"
      },
      "source": [
        "df = pd.read_csv(path +'/civilian-unemployment-rate.csv')\n",
        "df.head()"
      ],
      "execution_count": 5,
      "outputs": [
        {
          "output_type": "execute_result",
          "data": {
            "text/html": [
              "<div>\n",
              "<style scoped>\n",
              "    .dataframe tbody tr th:only-of-type {\n",
              "        vertical-align: middle;\n",
              "    }\n",
              "\n",
              "    .dataframe tbody tr th {\n",
              "        vertical-align: top;\n",
              "    }\n",
              "\n",
              "    .dataframe thead th {\n",
              "        text-align: right;\n",
              "    }\n",
              "</style>\n",
              "<table border=\"1\" class=\"dataframe\">\n",
              "  <thead>\n",
              "    <tr style=\"text-align: right;\">\n",
              "      <th></th>\n",
              "      <th>realtime_start</th>\n",
              "      <th>realtime_end</th>\n",
              "      <th>value</th>\n",
              "      <th>date</th>\n",
              "      <th>Change</th>\n",
              "    </tr>\n",
              "  </thead>\n",
              "  <tbody>\n",
              "    <tr>\n",
              "      <th>0</th>\n",
              "      <td>2018-11-15</td>\n",
              "      <td>2018-11-15</td>\n",
              "      <td>4.0</td>\n",
              "      <td>1948-01-01</td>\n",
              "      <td>0.0</td>\n",
              "    </tr>\n",
              "    <tr>\n",
              "      <th>1</th>\n",
              "      <td>2018-11-15</td>\n",
              "      <td>2018-11-15</td>\n",
              "      <td>4.7</td>\n",
              "      <td>1948-02-01</td>\n",
              "      <td>0.7</td>\n",
              "    </tr>\n",
              "    <tr>\n",
              "      <th>2</th>\n",
              "      <td>2018-11-15</td>\n",
              "      <td>2018-11-15</td>\n",
              "      <td>4.5</td>\n",
              "      <td>1948-03-01</td>\n",
              "      <td>-0.2</td>\n",
              "    </tr>\n",
              "    <tr>\n",
              "      <th>3</th>\n",
              "      <td>2018-11-15</td>\n",
              "      <td>2018-11-15</td>\n",
              "      <td>4.0</td>\n",
              "      <td>1948-04-01</td>\n",
              "      <td>-0.5</td>\n",
              "    </tr>\n",
              "    <tr>\n",
              "      <th>4</th>\n",
              "      <td>2018-11-15</td>\n",
              "      <td>2018-11-15</td>\n",
              "      <td>3.4</td>\n",
              "      <td>1948-05-01</td>\n",
              "      <td>-0.6</td>\n",
              "    </tr>\n",
              "  </tbody>\n",
              "</table>\n",
              "</div>"
            ],
            "text/plain": [
              "  realtime_start realtime_end  value        date  Change\n",
              "0     2018-11-15   2018-11-15    4.0  1948-01-01     0.0\n",
              "1     2018-11-15   2018-11-15    4.7  1948-02-01     0.7\n",
              "2     2018-11-15   2018-11-15    4.5  1948-03-01    -0.2\n",
              "3     2018-11-15   2018-11-15    4.0  1948-04-01    -0.5\n",
              "4     2018-11-15   2018-11-15    3.4  1948-05-01    -0.6"
            ]
          },
          "metadata": {},
          "execution_count": 5
        }
      ]
    },
    {
      "cell_type": "code",
      "metadata": {
        "colab": {
          "base_uri": "https://localhost:8080/",
          "height": 0
        },
        "id": "S_CQ-BVKnrZd",
        "outputId": "7d63c61e-d5ad-4406-d787-be61164bd792"
      },
      "source": [
        "value = df['value']\n",
        "value.head()"
      ],
      "execution_count": 14,
      "outputs": [
        {
          "output_type": "execute_result",
          "data": {
            "text/plain": [
              "0    4.0\n",
              "1    4.7\n",
              "2    4.5\n",
              "3    4.0\n",
              "4    3.4\n",
              "Name: value, dtype: float64"
            ]
          },
          "metadata": {},
          "execution_count": 14
        }
      ]
    },
    {
      "cell_type": "code",
      "metadata": {
        "colab": {
          "base_uri": "https://localhost:8080/",
          "height": 204
        },
        "id": "zqt0k5PNnrZe",
        "outputId": "b14e9d43-da09-4c0d-a4df-da3fb2941672"
      },
      "source": [
        "df = pd.DataFrame(value)\n",
        "df.head()"
      ],
      "execution_count": 15,
      "outputs": [
        {
          "output_type": "execute_result",
          "data": {
            "text/html": [
              "<div>\n",
              "<style scoped>\n",
              "    .dataframe tbody tr th:only-of-type {\n",
              "        vertical-align: middle;\n",
              "    }\n",
              "\n",
              "    .dataframe tbody tr th {\n",
              "        vertical-align: top;\n",
              "    }\n",
              "\n",
              "    .dataframe thead th {\n",
              "        text-align: right;\n",
              "    }\n",
              "</style>\n",
              "<table border=\"1\" class=\"dataframe\">\n",
              "  <thead>\n",
              "    <tr style=\"text-align: right;\">\n",
              "      <th></th>\n",
              "      <th>value</th>\n",
              "    </tr>\n",
              "  </thead>\n",
              "  <tbody>\n",
              "    <tr>\n",
              "      <th>0</th>\n",
              "      <td>4.0</td>\n",
              "    </tr>\n",
              "    <tr>\n",
              "      <th>1</th>\n",
              "      <td>4.7</td>\n",
              "    </tr>\n",
              "    <tr>\n",
              "      <th>2</th>\n",
              "      <td>4.5</td>\n",
              "    </tr>\n",
              "    <tr>\n",
              "      <th>3</th>\n",
              "      <td>4.0</td>\n",
              "    </tr>\n",
              "    <tr>\n",
              "      <th>4</th>\n",
              "      <td>3.4</td>\n",
              "    </tr>\n",
              "  </tbody>\n",
              "</table>\n",
              "</div>"
            ],
            "text/plain": [
              "   value\n",
              "0    4.0\n",
              "1    4.7\n",
              "2    4.5\n",
              "3    4.0\n",
              "4    3.4"
            ]
          },
          "metadata": {},
          "execution_count": 15
        }
      ]
    },
    {
      "cell_type": "code",
      "metadata": {
        "id": "3ZfT96PlnrZe"
      },
      "source": [
        "df['t-1'] = df['value'].shift(1)\n",
        "df['t-2']=df['t-1'].shift(1)\n"
      ],
      "execution_count": 16,
      "outputs": []
    },
    {
      "cell_type": "code",
      "metadata": {
        "id": "5qJvqndfnrZf"
      },
      "source": [
        "from pandas import DataFrame\n",
        "from pandas import concat\n",
        " \n",
        "def series_to_supervised(data, n_in=1, n_out=1, dropnan=True):\n",
        "    \"\"\"\n",
        "    https://machinelearningmastery.com/convert-time-series-supervised-learning-problem-python/\n",
        "    Frame a time series as a supervised learning dataset.\n",
        "    Arguments:\n",
        "        data: Sequence of observations as a list or NumPy array.\n",
        "        n_in: Number of lag observations as input (X).\n",
        "        n_out: Number of observations as output (y).\n",
        "        dropnan: Boolean whether or not to drop rows with NaN values.\n",
        "    Returns:\n",
        "        Pandas DataFrame of series framed for supervised learning.\n",
        "    \"\"\"\n",
        "    n_vars = 1 if type(data) is list else data.shape[1]\n",
        "    df = DataFrame(data)\n",
        "    cols, names = list(), list()\n",
        "    # input sequence (t-n, ... t-1)\n",
        "    for i in range(n_in, 0, -1):\n",
        "        cols.append(df.shift(i))\n",
        "        names += [('var%d(t-%d)' % (j+1, i)) for j in range(n_vars)]\n",
        "    # forecast sequence (t, t+1, ... t+n)\n",
        "    for i in range(0, n_out):\n",
        "        cols.append(df.shift(-i))\n",
        "        if i == 0:\n",
        "            names += [('var%d(t)' % (j+1)) for j in range(n_vars)]\n",
        "        else:\n",
        "            names += [('var%d(t+%d)' % (j+1, i)) for j in range(n_vars)]\n",
        "    # put it all together\n",
        "    agg = concat(cols, axis=1)\n",
        "    agg.columns = names\n",
        "    # drop rows with NaN values\n",
        "    if dropnan:\n",
        "        agg.dropna(inplace=True)\n",
        "    return agg\n",
        "\n"
      ],
      "execution_count": 17,
      "outputs": []
    },
    {
      "cell_type": "code",
      "metadata": {
        "colab": {
          "base_uri": "https://localhost:8080/",
          "height": 0
        },
        "id": "aaPSD4p6nrZg",
        "outputId": "7cd9e858-d34f-4844-852d-92b8663a3321"
      },
      "source": [
        "values = list(value)\n",
        "data = series_to_supervised(values,24)\n",
        "print(data)"
      ],
      "execution_count": 18,
      "outputs": [
        {
          "output_type": "stream",
          "text": [
            "     var1(t-24)  var1(t-23)  var1(t-22)  ...  var1(t-2)  var1(t-1)  var1(t)\n",
            "24          4.0         4.7         4.5  ...        5.7        6.0      7.6\n",
            "25          4.7         4.5         4.0  ...        6.0        7.6      7.9\n",
            "26          4.5         4.0         3.4  ...        7.6        7.9      7.1\n",
            "27          4.0         3.4         3.9  ...        7.9        7.1      6.0\n",
            "28          3.4         3.9         3.9  ...        7.1        6.0      5.3\n",
            "..          ...         ...         ...  ...        ...        ...      ...\n",
            "845         5.1         5.1         5.0  ...        3.7        3.6      4.2\n",
            "846         5.1         5.0         4.8  ...        3.6        4.2      4.1\n",
            "847         5.0         4.8         4.7  ...        4.2        4.1      3.9\n",
            "848         4.8         4.7         4.4  ...        4.1        3.9      3.6\n",
            "849         4.7         4.4         4.5  ...        3.9        3.6      3.5\n",
            "\n",
            "[826 rows x 25 columns]\n"
          ],
          "name": "stdout"
        }
      ]
    },
    {
      "cell_type": "code",
      "metadata": {
        "id": "NR19iqBJnrZh"
      },
      "source": [
        "from math import sqrt\n",
        "from numpy import concatenate\n",
        "from matplotlib import pyplot\n",
        "from pandas import read_csv\n",
        "from pandas import DataFrame\n",
        "from pandas import concat\n",
        "from sklearn.preprocessing import MinMaxScaler\n",
        "from sklearn.preprocessing import LabelEncoder\n",
        "from sklearn.metrics import mean_squared_error\n",
        "from keras.models import Sequential\n",
        "from keras.layers import Dense\n",
        "from keras.layers import LSTM"
      ],
      "execution_count": 19,
      "outputs": []
    },
    {
      "cell_type": "code",
      "metadata": {
        "colab": {
          "base_uri": "https://localhost:8080/",
          "height": 2002
        },
        "id": "Zu7bMINHnrZi",
        "outputId": "6965fb0a-ab5f-47cc-e4b6-40ad148a6295"
      },
      "source": [
        "values = data.values\n",
        "n_train_hours = 600\n",
        "train = values[:n_train_hours, :]\n",
        "test = values[n_train_hours:, :]\n",
        "\n",
        "# split into input and outputs\n",
        "train_X, train_y = train[:, :-1], train[:, -1]\n",
        "test_X, test_y = test[:, :-1], test[:, -1]\n",
        "\n",
        "# reshape input to be 3D [samples, timesteps, features]\n",
        "train_X = train_X.reshape((train_X.shape[0], 1, train_X.shape[1]))\n",
        "test_X = test_X.reshape((test_X.shape[0], 1, test_X.shape[1]))\n",
        "print(train_X.shape, train_y.shape, test_X.shape, test_y.shape)\n",
        " \n",
        "# design network\n",
        "model = Sequential()\n",
        "model.add(LSTM(50, input_shape=(train_X.shape[1], train_X.shape[2])))\n",
        "model.add(Dense(1))\n",
        "model.compile(loss='mean_squared_error', optimizer='adam')\n",
        "\n",
        "# fit network\n",
        "history = model.fit(train_X, train_y, epochs=50, batch_size=32, validation_data=(test_X, test_y), verbose=2, shuffle=False)\n",
        "# plot history\n",
        "pyplot.plot(history.history['loss'], label='train')\n",
        "#pyplot.plot(history.history['val_loss'], label='test')\n",
        "pyplot.legend()\n",
        "pyplot.show()\n",
        " \n",
        "# make a prediction\n",
        "yhat = model.predict(test_X)\n",
        "test_X = test_X.reshape((test_X.shape[0], test_X.shape[2]))\n",
        "\n",
        "# invert scaling for forecast\n",
        "inv_yhat = concatenate((yhat, test_X[:, 1:]), axis=1)\n",
        "\n",
        "#inv_yhat = scaler.inverse_transform(inv_yhat)\n",
        "inv_yhat = inv_yhat[:,0]\n",
        "\n",
        "# invert scaling for actual\n",
        "test_y = test_y.reshape((len(test_y), 1))\n",
        "inv_y = concatenate((test_y, test_X[:, 1:]), axis=1)\n",
        "\n",
        "#inv_y = scaler.inverse_transform(inv_y)\n",
        "inv_y = inv_y[:,0]\n",
        "\n",
        "# calculate RMSE\n",
        "rmse = sqrt(mean_squared_error(inv_y, inv_yhat))\n",
        "print('Test RMSE: %.3f' % rmse)"
      ],
      "execution_count": 20,
      "outputs": [
        {
          "output_type": "stream",
          "text": [
            "(600, 1, 24) (600,) (226, 1, 24) (226,)\n",
            "Epoch 1/50\n",
            "19/19 - 3s - loss: 24.0342 - val_loss: 12.8223\n",
            "Epoch 2/50\n",
            "19/19 - 0s - loss: 6.1373 - val_loss: 4.9089\n",
            "Epoch 3/50\n",
            "19/19 - 0s - loss: 2.8182 - val_loss: 3.3110\n",
            "Epoch 4/50\n",
            "19/19 - 0s - loss: 2.2714 - val_loss: 2.9559\n",
            "Epoch 5/50\n",
            "19/19 - 0s - loss: 2.1963 - val_loss: 2.7965\n",
            "Epoch 6/50\n",
            "19/19 - 0s - loss: 2.1151 - val_loss: 2.6333\n",
            "Epoch 7/50\n",
            "19/19 - 0s - loss: 2.0134 - val_loss: 2.4816\n",
            "Epoch 8/50\n",
            "19/19 - 0s - loss: 1.9052 - val_loss: 2.3637\n",
            "Epoch 9/50\n",
            "19/19 - 0s - loss: 1.7607 - val_loss: 2.1992\n",
            "Epoch 10/50\n",
            "19/19 - 0s - loss: 1.7299 - val_loss: 2.1168\n",
            "Epoch 11/50\n",
            "19/19 - 0s - loss: 1.5902 - val_loss: 1.9333\n",
            "Epoch 12/50\n",
            "19/19 - 0s - loss: 1.5010 - val_loss: 1.9010\n",
            "Epoch 13/50\n",
            "19/19 - 0s - loss: 1.4297 - val_loss: 1.7570\n",
            "Epoch 14/50\n",
            "19/19 - 0s - loss: 1.3232 - val_loss: 1.6826\n",
            "Epoch 15/50\n",
            "19/19 - 0s - loss: 1.2356 - val_loss: 1.5506\n",
            "Epoch 16/50\n",
            "19/19 - 0s - loss: 1.1489 - val_loss: 1.5381\n",
            "Epoch 17/50\n",
            "19/19 - 0s - loss: 1.1338 - val_loss: 1.4502\n",
            "Epoch 18/50\n",
            "19/19 - 0s - loss: 1.0684 - val_loss: 1.3921\n",
            "Epoch 19/50\n",
            "19/19 - 0s - loss: 1.0293 - val_loss: 1.3516\n",
            "Epoch 20/50\n",
            "19/19 - 0s - loss: 0.9987 - val_loss: 1.3084\n",
            "Epoch 21/50\n",
            "19/19 - 0s - loss: 0.9670 - val_loss: 1.2620\n",
            "Epoch 22/50\n",
            "19/19 - 0s - loss: 0.9351 - val_loss: 1.2190\n",
            "Epoch 23/50\n",
            "19/19 - 0s - loss: 0.8973 - val_loss: 1.1673\n",
            "Epoch 24/50\n",
            "19/19 - 0s - loss: 0.8635 - val_loss: 1.1439\n",
            "Epoch 25/50\n",
            "19/19 - 0s - loss: 0.8323 - val_loss: 1.0894\n",
            "Epoch 26/50\n",
            "19/19 - 0s - loss: 0.7948 - val_loss: 1.0601\n",
            "Epoch 27/50\n",
            "19/19 - 0s - loss: 0.7710 - val_loss: 1.0293\n",
            "Epoch 28/50\n",
            "19/19 - 0s - loss: 0.7461 - val_loss: 1.0032\n",
            "Epoch 29/50\n",
            "19/19 - 0s - loss: 0.7265 - val_loss: 0.9731\n",
            "Epoch 30/50\n",
            "19/19 - 0s - loss: 0.7000 - val_loss: 0.9337\n",
            "Epoch 31/50\n",
            "19/19 - 0s - loss: 0.6775 - val_loss: 0.9114\n",
            "Epoch 32/50\n",
            "19/19 - 0s - loss: 0.6633 - val_loss: 0.8913\n",
            "Epoch 33/50\n",
            "19/19 - 0s - loss: 0.6446 - val_loss: 0.8594\n",
            "Epoch 34/50\n",
            "19/19 - 0s - loss: 0.6236 - val_loss: 0.8287\n",
            "Epoch 35/50\n",
            "19/19 - 0s - loss: 0.6074 - val_loss: 0.8055\n",
            "Epoch 36/50\n",
            "19/19 - 0s - loss: 0.5891 - val_loss: 0.7761\n",
            "Epoch 37/50\n",
            "19/19 - 0s - loss: 0.5744 - val_loss: 0.7556\n",
            "Epoch 38/50\n",
            "19/19 - 0s - loss: 0.5631 - val_loss: 0.7393\n",
            "Epoch 39/50\n",
            "19/19 - 0s - loss: 0.5530 - val_loss: 0.7235\n",
            "Epoch 40/50\n",
            "19/19 - 0s - loss: 0.5438 - val_loss: 0.7103\n",
            "Epoch 41/50\n",
            "19/19 - 0s - loss: 0.5347 - val_loss: 0.6956\n",
            "Epoch 42/50\n",
            "19/19 - 0s - loss: 0.5261 - val_loss: 0.6835\n",
            "Epoch 43/50\n",
            "19/19 - 0s - loss: 0.5175 - val_loss: 0.6697\n",
            "Epoch 44/50\n",
            "19/19 - 0s - loss: 0.5095 - val_loss: 0.6583\n",
            "Epoch 45/50\n",
            "19/19 - 0s - loss: 0.5015 - val_loss: 0.6457\n",
            "Epoch 46/50\n",
            "19/19 - 0s - loss: 0.4945 - val_loss: 0.6350\n",
            "Epoch 47/50\n",
            "19/19 - 0s - loss: 0.4878 - val_loss: 0.6242\n",
            "Epoch 48/50\n",
            "19/19 - 0s - loss: 0.4819 - val_loss: 0.6145\n",
            "Epoch 49/50\n",
            "19/19 - 0s - loss: 0.4763 - val_loss: 0.6053\n",
            "Epoch 50/50\n",
            "19/19 - 0s - loss: 0.4717 - val_loss: 0.5968\n"
          ],
          "name": "stdout"
        },
        {
          "output_type": "display_data",
          "data": {
            "image/png": "[encoded data removed]",
            "text/plain": [
              "<Figure size 432x288 with 1 Axes>"
            ]
          },
          "metadata": {
            "needs_background": "light"
          }
        },
        {
          "output_type": "stream",
          "text": [
            "Test RMSE: 0.773\n"
          ],
          "name": "stdout"
        }
      ]
    },
    {
      "cell_type": "code",
      "metadata": {
        "colab": {
          "base_uri": "https://localhost:8080/",
          "height": 282
        },
        "id": "I3MSdppXnrZi",
        "outputId": "1c9f98c5-979b-4ff4-c307-6df8c586a852"
      },
      "source": [
        "plt.plot(yhat)\n",
        "plt.plot(test_y)\n",
        "plt.legend(['Predicted', 'Actual'])"
      ],
      "execution_count": 26,
      "outputs": [
        {
          "output_type": "execute_result",
          "data": {
            "text/plain": [
              "<matplotlib.legend.Legend at 0x7f153dfd30d0>"
            ]
          },
          "metadata": {},
          "execution_count": 26
        },
        {
          "output_type": "display_data",
          "data": {
            "image/png": "[encoded data removed]",
            "text/plain": [
              "<Figure size 432x288 with 1 Axes>"
            ]
          },
          "metadata": {
            "needs_background": "light"
          }
        }
      ]
    }
  ]
}